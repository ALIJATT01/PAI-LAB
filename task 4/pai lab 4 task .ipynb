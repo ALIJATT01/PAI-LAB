{
 "cells": [
  {
   "cell_type": "code",
   "execution_count": null,
   "metadata": {},
   "outputs": [
    {
     "name": "stdout",
     "output_type": "stream",
     "text": [
      "Number of solutions: 4\n",
      ". Q . . . .\n",
      ". . . Q . .\n",
      ". . . . . Q\n",
      "Q . . . . .\n",
      ". . Q . . .\n",
      ". . . . Q .\n",
      "\n",
      "\n",
      ". . Q . . .\n",
      ". . . . . Q\n",
      ". Q . . . .\n",
      ". . . . Q .\n",
      "Q . . . . .\n",
      ". . . Q . .\n",
      "\n",
      "\n",
      ". . . Q . .\n",
      "Q . . . . .\n",
      ". . . . Q .\n",
      ". Q . . . .\n",
      ". . . . . Q\n",
      ". . Q . . .\n",
      "\n",
      "\n",
      ". . . . Q .\n",
      ". . Q . . .\n",
      "Q . . . . .\n",
      ". . . . . Q\n",
      ". . . Q . .\n",
      ". Q . . . .\n",
      "\n",
      "\n"
     ]
    }
   ],
   "source": [
    "def is_position_safe(board, row, col):\n",
    "    for i in range(row):\n",
    "        if board[i] == col or \\\n",
    "           board[i] - i == col - row or \\\n",
    "           board[i] + i == col + row:\n",
    "            return False\n",
    "    return True\n",
    "def solve_n_queens_dynamic(size):\n",
    "    def solve(row, board):\n",
    "        if row == size:\n",
    "            solutions.append(board[:])\n",
    "            return\n",
    "        for col in range(size):\n",
    "            if is_position_safe(board, row, col):\n",
    "                board[row] = col\n",
    "                solve(row + 1, board)\n",
    "                board[row] = -1\n",
    "    solutions = []\n",
    "    board = [-1] * size\n",
    "    solve(0, board)\n",
    "    return solutions\n",
    "def display_n_queens_solutions(solutions):\n",
    "    for solution in solutions:\n",
    "        for i in range(len(solution)):\n",
    "            row = ['.'] * len(solution)\n",
    "            row[solution[i]] = 'Q'\n",
    "            print(\" \".join(row))\n",
    "        print(\"\\n\")\n",
    "board_size = 6\n",
    "solutions = solve_n_queens_dynamic(board_size)\n",
    "print(f\"Number of solutions: {len(solutions)}\")\n",
    "display_n_queens_solutions(solutions)\n"
   ]
  },
  {
   "cell_type": "code",
   "execution_count": null,
   "metadata": {},
   "outputs": [],
   "source": []
  }
 ],
 "metadata": {
  "kernelspec": {
   "display_name": "Python 3",
   "language": "python",
   "name": "python3"
  },
  "language_info": {
   "codemirror_mode": {
    "name": "ipython",
    "version": 3
   },
   "file_extension": ".py",
   "mimetype": "text/x-python",
   "name": "python",
   "nbconvert_exporter": "python",
   "pygments_lexer": "ipython3",
   "version": "3.12.6"
  }
 },
 "nbformat": 4,
 "nbformat_minor": 2
}
