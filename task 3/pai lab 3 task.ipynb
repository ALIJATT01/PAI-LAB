{
 "cells": [
  {
   "cell_type": "code",
   "execution_count": null,
   "metadata": {},
   "outputs": [
    {
     "name": "stdout",
     "output_type": "stream",
     "text": [
      "Solution Found\n",
      "(0, 0)\n",
      "(0, 3)\n",
      "(3, 0)\n",
      "(3, 3)\n",
      "(5, 1)\n",
      "(5, 0)\n",
      "(2, 3)\n"
     ]
    },
    {
     "data": {
      "text/plain": [
       "True"
      ]
     },
     "execution_count": 1,
     "metadata": {},
     "output_type": "execute_result"
    }
   ],
   "source": [
    "def dfs(jugA_capacity, jugB_capacity, target_amount):\n",
    "    stack = [(0, 0)]\n",
    "    visited = set()\n",
    "    actions = []\n",
    "    while stack:\n",
    "        jugA, jugB = stack.pop()\n",
    "        actions.append((jugA, jugB))\n",
    "        if jugA == target_amount or jugB == target_amount:\n",
    "            print(\"Solution Found\")\n",
    "            for action in actions:\n",
    "                print(action)\n",
    "            return True\n",
    "        visited.add((jugA, jugB))\n",
    "        states = [\n",
    "            (jugA_capacity, jugB),  \n",
    "            (jugA, jugB_capacity), \n",
    "            (0, jugB),  \n",
    "            (jugA, 0), \n",
    "            (jugA - min(jugA, jugB_capacity - jugB), jugB + min(jugA, jugB_capacity - jugB)), \n",
    "            (jugA + min(jugB, jugA_capacity - jugA), jugB - min(jugB, jugA_capacity - jugA)), \n",
    "        ]\n",
    "        for state in states:\n",
    "            if state not in visited:\n",
    "                stack.append(state)\n",
    "    print(\"No Solution Found\")\n",
    "    return False\n",
    "jugA_capacity = 5\n",
    "jugB_capacity = 3\n",
    "target_amount = 2\n",
    "dfs(jugA_capacity, jugB_capacity, target_amount)\n"
   ]
  }
 ],
 "metadata": {
  "kernelspec": {
   "display_name": "Python 3",
   "language": "python",
   "name": "python3"
  },
  "language_info": {
   "codemirror_mode": {
    "name": "ipython",
    "version": 3
   },
   "file_extension": ".py",
   "mimetype": "text/x-python",
   "name": "python",
   "nbconvert_exporter": "python",
   "pygments_lexer": "ipython3",
   "version": "3.12.6"
  }
 },
 "nbformat": 4,
 "nbformat_minor": 2
}
