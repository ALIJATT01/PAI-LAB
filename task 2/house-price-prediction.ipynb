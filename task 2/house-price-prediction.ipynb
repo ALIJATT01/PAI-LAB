{
 "cells": [
  {
   "cell_type": "code",
   "execution_count": null,
   "id": "4e6a1cfb",
   "metadata": {
    "execution": {
     "iopub.execute_input": "2025-02-26T16:44:12.719062Z",
     "iopub.status.busy": "2025-02-26T16:44:12.718621Z",
     "iopub.status.idle": "2025-02-26T16:44:15.266535Z",
     "shell.execute_reply": "2025-02-26T16:44:15.265702Z"
    },
    "papermill": {
     "duration": 2.556707,
     "end_time": "2025-02-26T16:44:15.268284",
     "exception": false,
     "start_time": "2025-02-26T16:44:12.711577",
     "status": "completed"
    },
    "tags": []
   },
   "outputs": [],
   "source": [
    "import pandas as pd\n",
    "import numpy as np\n",
    "import matplotlib.pyplot as plt\n",
    "import seaborn as sns"
   ]
  },
  {
   "cell_type": "code",
   "execution_count": null,
   "id": "dff3fc9b",
   "metadata": {
    "execution": {
     "iopub.execute_input": "2025-02-26T16:44:15.279957Z",
     "iopub.status.busy": "2025-02-26T16:44:15.279435Z",
     "iopub.status.idle": "2025-02-26T16:44:15.942488Z",
     "shell.execute_reply": "2025-02-26T16:44:15.941570Z"
    },
    "papermill": {
     "duration": 0.670701,
     "end_time": "2025-02-26T16:44:15.944343",
     "exception": false,
     "start_time": "2025-02-26T16:44:15.273642",
     "status": "completed"
    },
    "tags": []
   },
   "outputs": [],
   "source": [
    "import sklearn.datasets\n",
    "from sklearn.model_selection import train_test_split\n",
    "from sklearn.base import BaseEstimator, RegressorMixin\n",
    "from xgboost import XGBRegressor\n",
    "from sklearn import metrics"
   ]
  },
  {
   "cell_type": "code",
   "execution_count": null,
   "id": "8ff9e0de",
   "metadata": {
    "execution": {
     "iopub.execute_input": "2025-02-26T16:44:15.955574Z",
     "iopub.status.busy": "2025-02-26T16:44:15.955221Z",
     "iopub.status.idle": "2025-02-26T16:44:17.330663Z",
     "shell.execute_reply": "2025-02-26T16:44:17.329568Z"
    },
    "papermill": {
     "duration": 1.383099,
     "end_time": "2025-02-26T16:44:17.332581",
     "exception": false,
     "start_time": "2025-02-26T16:44:15.949482",
     "status": "completed"
    },
    "tags": []
   },
   "outputs": [],
   "source": [
    "house_price_dataset = sklearn.datasets.fetch_california_housing()"
   ]
  },
  {
   "cell_type": "code",
   "execution_count": null,
   "id": "5865f119",
   "metadata": {
    "execution": {
     "iopub.execute_input": "2025-02-26T16:44:17.345902Z",
     "iopub.status.busy": "2025-02-26T16:44:17.345357Z",
     "iopub.status.idle": "2025-02-26T16:44:17.353344Z",
     "shell.execute_reply": "2025-02-26T16:44:17.352030Z"
    },
    "papermill": {
     "duration": 0.018262,
     "end_time": "2025-02-26T16:44:17.356203",
     "exception": false,
     "start_time": "2025-02-26T16:44:17.337941",
     "status": "completed"
    },
    "tags": []
   },
   "outputs": [
    {
     "name": "stdout",
     "output_type": "stream",
     "text": [
      "{'data': array([[   8.3252    ,   41.        ,    6.98412698, ...,    2.55555556,\n",
      "          37.88      , -122.23      ],\n",
      "       [   8.3014    ,   21.        ,    6.23813708, ...,    2.10984183,\n",
      "          37.86      , -122.22      ],\n",
      "       [   7.2574    ,   52.        ,    8.28813559, ...,    2.80225989,\n",
      "          37.85      , -122.24      ],\n",
      "       ...,\n",
      "       [   1.7       ,   17.        ,    5.20554273, ...,    2.3256351 ,\n",
      "          39.43      , -121.22      ],\n",
      "       [   1.8672    ,   18.        ,    5.32951289, ...,    2.12320917,\n",
      "          39.43      , -121.32      ],\n",
      "       [   2.3886    ,   16.        ,    5.25471698, ...,    2.61698113,\n",
      "          39.37      , -121.24      ]]), 'target': array([4.526, 3.585, 3.521, ..., 0.923, 0.847, 0.894]), 'frame': None, 'target_names': ['MedHouseVal'], 'feature_names': ['MedInc', 'HouseAge', 'AveRooms', 'AveBedrms', 'Population', 'AveOccup', 'Latitude', 'Longitude'], 'DESCR': '.. _california_housing_dataset:\\n\\nCalifornia Housing dataset\\n--------------------------\\n\\n**Data Set Characteristics:**\\n\\n    :Number of Instances: 20640\\n\\n    :Number of Attributes: 8 numeric, predictive attributes and the target\\n\\n    :Attribute Information:\\n        - MedInc        median income in block group\\n        - HouseAge      median house age in block group\\n        - AveRooms      average number of rooms per household\\n        - AveBedrms     average number of bedrooms per household\\n        - Population    block group population\\n        - AveOccup      average number of household members\\n        - Latitude      block group latitude\\n        - Longitude     block group longitude\\n\\n    :Missing Attribute Values: None\\n\\nThis dataset was obtained from the StatLib repository.\\nhttps://www.dcc.fc.up.pt/~ltorgo/Regression/cal_housing.html\\n\\nThe target variable is the median house value for California districts,\\nexpressed in hundreds of thousands of dollars ($100,000).\\n\\nThis dataset was derived from the 1990 U.S. census, using one row per census\\nblock group. A block group is the smallest geographical unit for which the U.S.\\nCensus Bureau publishes sample data (a block group typically has a population\\nof 600 to 3,000 people).\\n\\nA household is a group of people residing within a home. Since the average\\nnumber of rooms and bedrooms in this dataset are provided per household, these\\ncolumns may take surprisingly large values for block groups with few households\\nand many empty houses, such as vacation resorts.\\n\\nIt can be downloaded/loaded using the\\n:func:`sklearn.datasets.fetch_california_housing` function.\\n\\n.. topic:: References\\n\\n    - Pace, R. Kelley and Ronald Barry, Sparse Spatial Autoregressions,\\n      Statistics and Probability Letters, 33 (1997) 291-297\\n'}\n"
     ]
    }
   ],
   "source": [
    "print(house_price_dataset)"
   ]
  },
  {
   "cell_type": "code",
   "execution_count": null,
   "id": "1f514e39",
   "metadata": {
    "execution": {
     "iopub.execute_input": "2025-02-26T16:44:17.373623Z",
     "iopub.status.busy": "2025-02-26T16:44:17.373172Z",
     "iopub.status.idle": "2025-02-26T16:44:17.381108Z",
     "shell.execute_reply": "2025-02-26T16:44:17.380084Z"
    },
    "papermill": {
     "duration": 0.016216,
     "end_time": "2025-02-26T16:44:17.382656",
     "exception": false,
     "start_time": "2025-02-26T16:44:17.366440",
     "status": "completed"
    },
    "tags": []
   },
   "outputs": [],
   "source": [
    "house_price_dataframe = pd.DataFrame(house_price_dataset.data, columns = house_price_dataset.feature_names)"
   ]
  },
  {
   "cell_type": "code",
   "execution_count": null,
   "id": "1b8feb64",
   "metadata": {
    "execution": {
     "iopub.execute_input": "2025-02-26T16:44:17.395600Z",
     "iopub.status.busy": "2025-02-26T16:44:17.395288Z",
     "iopub.status.idle": "2025-02-26T16:44:17.425053Z",
     "shell.execute_reply": "2025-02-26T16:44:17.424011Z"
    },
    "papermill": {
     "duration": 0.038704,
     "end_time": "2025-02-26T16:44:17.426691",
     "exception": false,
     "start_time": "2025-02-26T16:44:17.387987",
     "status": "completed"
    },
    "tags": []
   },
   "outputs": [
    {
     "data": {
      "text/html": [
       "<div>\n",
       "<style scoped>\n",
       "    .dataframe tbody tr th:only-of-type {\n",
       "        vertical-align: middle;\n",
       "    }\n",
       "\n",
       "    .dataframe tbody tr th {\n",
       "        vertical-align: top;\n",
       "    }\n",
       "\n",
       "    .dataframe thead th {\n",
       "        text-align: right;\n",
       "    }\n",
       "</style>\n",
       "<table border=\"1\" class=\"dataframe\">\n",
       "  <thead>\n",
       "    <tr style=\"text-align: right;\">\n",
       "      <th></th>\n",
       "      <th>MedInc</th>\n",
       "      <th>HouseAge</th>\n",
       "      <th>AveRooms</th>\n",
       "      <th>AveBedrms</th>\n",
       "      <th>Population</th>\n",
       "      <th>AveOccup</th>\n",
       "      <th>Latitude</th>\n",
       "      <th>Longitude</th>\n",
       "    </tr>\n",
       "  </thead>\n",
       "  <tbody>\n",
       "    <tr>\n",
       "      <th>0</th>\n",
       "      <td>8.3252</td>\n",
       "      <td>41.0</td>\n",
       "      <td>6.984127</td>\n",
       "      <td>1.023810</td>\n",
       "      <td>322.0</td>\n",
       "      <td>2.555556</td>\n",
       "      <td>37.88</td>\n",
       "      <td>-122.23</td>\n",
       "    </tr>\n",
       "    <tr>\n",
       "      <th>1</th>\n",
       "      <td>8.3014</td>\n",
       "      <td>21.0</td>\n",
       "      <td>6.238137</td>\n",
       "      <td>0.971880</td>\n",
       "      <td>2401.0</td>\n",
       "      <td>2.109842</td>\n",
       "      <td>37.86</td>\n",
       "      <td>-122.22</td>\n",
       "    </tr>\n",
       "    <tr>\n",
       "      <th>2</th>\n",
       "      <td>7.2574</td>\n",
       "      <td>52.0</td>\n",
       "      <td>8.288136</td>\n",
       "      <td>1.073446</td>\n",
       "      <td>496.0</td>\n",
       "      <td>2.802260</td>\n",
       "      <td>37.85</td>\n",
       "      <td>-122.24</td>\n",
       "    </tr>\n",
       "    <tr>\n",
       "      <th>3</th>\n",
       "      <td>5.6431</td>\n",
       "      <td>52.0</td>\n",
       "      <td>5.817352</td>\n",
       "      <td>1.073059</td>\n",
       "      <td>558.0</td>\n",
       "      <td>2.547945</td>\n",
       "      <td>37.85</td>\n",
       "      <td>-122.25</td>\n",
       "    </tr>\n",
       "    <tr>\n",
       "      <th>4</th>\n",
       "      <td>3.8462</td>\n",
       "      <td>52.0</td>\n",
       "      <td>6.281853</td>\n",
       "      <td>1.081081</td>\n",
       "      <td>565.0</td>\n",
       "      <td>2.181467</td>\n",
       "      <td>37.85</td>\n",
       "      <td>-122.25</td>\n",
       "    </tr>\n",
       "  </tbody>\n",
       "</table>\n",
       "</div>"
      ],
      "text/plain": [
       "   MedInc  HouseAge  AveRooms  AveBedrms  Population  AveOccup  Latitude  \\\n",
       "0  8.3252      41.0  6.984127   1.023810       322.0  2.555556     37.88   \n",
       "1  8.3014      21.0  6.238137   0.971880      2401.0  2.109842     37.86   \n",
       "2  7.2574      52.0  8.288136   1.073446       496.0  2.802260     37.85   \n",
       "3  5.6431      52.0  5.817352   1.073059       558.0  2.547945     37.85   \n",
       "4  3.8462      52.0  6.281853   1.081081       565.0  2.181467     37.85   \n",
       "\n",
       "   Longitude  \n",
       "0    -122.23  \n",
       "1    -122.22  \n",
       "2    -122.24  \n",
       "3    -122.25  \n",
       "4    -122.25  "
      ]
     },
     "execution_count": 6,
     "metadata": {},
     "output_type": "execute_result"
    }
   ],
   "source": [
    "house_price_dataframe.head()"
   ]
  },
  {
   "cell_type": "code",
   "execution_count": null,
   "id": "089e4e8a",
   "metadata": {
    "execution": {
     "iopub.execute_input": "2025-02-26T16:44:17.438528Z",
     "iopub.status.busy": "2025-02-26T16:44:17.438214Z",
     "iopub.status.idle": "2025-02-26T16:44:17.442986Z",
     "shell.execute_reply": "2025-02-26T16:44:17.442069Z"
    },
    "papermill": {
     "duration": 0.012298,
     "end_time": "2025-02-26T16:44:17.444477",
     "exception": false,
     "start_time": "2025-02-26T16:44:17.432179",
     "status": "completed"
    },
    "tags": []
   },
   "outputs": [],
   "source": [
    "house_price_dataframe['price'] = house_price_dataset.target"
   ]
  },
  {
   "cell_type": "code",
   "execution_count": 8,
   "id": "02c78bb7",
   "metadata": {
    "execution": {
     "iopub.execute_input": "2025-02-26T16:44:17.456411Z",
     "iopub.status.busy": "2025-02-26T16:44:17.456072Z",
     "iopub.status.idle": "2025-02-26T16:44:17.470349Z",
     "shell.execute_reply": "2025-02-26T16:44:17.469318Z"
    },
    "papermill": {
     "duration": 0.022086,
     "end_time": "2025-02-26T16:44:17.472093",
     "exception": false,
     "start_time": "2025-02-26T16:44:17.450007",
     "status": "completed"
    },
    "tags": []
   },
   "outputs": [
    {
     "data": {
      "text/html": [
       "<div>\n",
       "<style scoped>\n",
       "    .dataframe tbody tr th:only-of-type {\n",
       "        vertical-align: middle;\n",
       "    }\n",
       "\n",
       "    .dataframe tbody tr th {\n",
       "        vertical-align: top;\n",
       "    }\n",
       "\n",
       "    .dataframe thead th {\n",
       "        text-align: right;\n",
       "    }\n",
       "</style>\n",
       "<table border=\"1\" class=\"dataframe\">\n",
       "  <thead>\n",
       "    <tr style=\"text-align: right;\">\n",
       "      <th></th>\n",
       "      <th>MedInc</th>\n",
       "      <th>HouseAge</th>\n",
       "      <th>AveRooms</th>\n",
       "      <th>AveBedrms</th>\n",
       "      <th>Population</th>\n",
       "      <th>AveOccup</th>\n",
       "      <th>Latitude</th>\n",
       "      <th>Longitude</th>\n",
       "      <th>price</th>\n",
       "    </tr>\n",
       "  </thead>\n",
       "  <tbody>\n",
       "    <tr>\n",
       "      <th>0</th>\n",
       "      <td>8.3252</td>\n",
       "      <td>41.0</td>\n",
       "      <td>6.984127</td>\n",
       "      <td>1.023810</td>\n",
       "      <td>322.0</td>\n",
       "      <td>2.555556</td>\n",
       "      <td>37.88</td>\n",
       "      <td>-122.23</td>\n",
       "      <td>4.526</td>\n",
       "    </tr>\n",
       "    <tr>\n",
       "      <th>1</th>\n",
       "      <td>8.3014</td>\n",
       "      <td>21.0</td>\n",
       "      <td>6.238137</td>\n",
       "      <td>0.971880</td>\n",
       "      <td>2401.0</td>\n",
       "      <td>2.109842</td>\n",
       "      <td>37.86</td>\n",
       "      <td>-122.22</td>\n",
       "      <td>3.585</td>\n",
       "    </tr>\n",
       "    <tr>\n",
       "      <th>2</th>\n",
       "      <td>7.2574</td>\n",
       "      <td>52.0</td>\n",
       "      <td>8.288136</td>\n",
       "      <td>1.073446</td>\n",
       "      <td>496.0</td>\n",
       "      <td>2.802260</td>\n",
       "      <td>37.85</td>\n",
       "      <td>-122.24</td>\n",
       "      <td>3.521</td>\n",
       "    </tr>\n",
       "    <tr>\n",
       "      <th>3</th>\n",
       "      <td>5.6431</td>\n",
       "      <td>52.0</td>\n",
       "      <td>5.817352</td>\n",
       "      <td>1.073059</td>\n",
       "      <td>558.0</td>\n",
       "      <td>2.547945</td>\n",
       "      <td>37.85</td>\n",
       "      <td>-122.25</td>\n",
       "      <td>3.413</td>\n",
       "    </tr>\n",
       "    <tr>\n",
       "      <th>4</th>\n",
       "      <td>3.8462</td>\n",
       "      <td>52.0</td>\n",
       "      <td>6.281853</td>\n",
       "      <td>1.081081</td>\n",
       "      <td>565.0</td>\n",
       "      <td>2.181467</td>\n",
       "      <td>37.85</td>\n",
       "      <td>-122.25</td>\n",
       "      <td>3.422</td>\n",
       "    </tr>\n",
       "  </tbody>\n",
       "</table>\n",
       "</div>"
      ],
      "text/plain": [
       "   MedInc  HouseAge  AveRooms  AveBedrms  Population  AveOccup  Latitude  \\\n",
       "0  8.3252      41.0  6.984127   1.023810       322.0  2.555556     37.88   \n",
       "1  8.3014      21.0  6.238137   0.971880      2401.0  2.109842     37.86   \n",
       "2  7.2574      52.0  8.288136   1.073446       496.0  2.802260     37.85   \n",
       "3  5.6431      52.0  5.817352   1.073059       558.0  2.547945     37.85   \n",
       "4  3.8462      52.0  6.281853   1.081081       565.0  2.181467     37.85   \n",
       "\n",
       "   Longitude  price  \n",
       "0    -122.23  4.526  \n",
       "1    -122.22  3.585  \n",
       "2    -122.24  3.521  \n",
       "3    -122.25  3.413  \n",
       "4    -122.25  3.422  "
      ]
     },
     "execution_count": 8,
     "metadata": {},
     "output_type": "execute_result"
    }
   ],
   "source": [
    "house_price_dataframe.head()"
   ]
  },
  {
   "cell_type": "code",
   "execution_count": 9,
   "id": "12d583fa",
   "metadata": {
    "execution": {
     "iopub.execute_input": "2025-02-26T16:44:17.484515Z",
     "iopub.status.busy": "2025-02-26T16:44:17.484210Z",
     "iopub.status.idle": "2025-02-26T16:44:17.695024Z",
     "shell.execute_reply": "2025-02-26T16:44:17.693949Z"
    },
    "papermill": {
     "duration": 0.218934,
     "end_time": "2025-02-26T16:44:17.696924",
     "exception": false,
     "start_time": "2025-02-26T16:44:17.477990",
     "status": "completed"
    },
    "tags": []
   },
   "outputs": [],
   "source": [
    "house_price_dataframe.to_csv('House_price_prediction_Boston.csv', index=False)"
   ]
  },
  {
   "cell_type": "code",
   "execution_count": null,
   "id": "5edb0db9",
   "metadata": {
    "execution": {
     "iopub.execute_input": "2025-02-26T16:44:17.709560Z",
     "iopub.status.busy": "2025-02-26T16:44:17.709236Z",
     "iopub.status.idle": "2025-02-26T16:44:17.714986Z",
     "shell.execute_reply": "2025-02-26T16:44:17.714021Z"
    },
    "papermill": {
     "duration": 0.013837,
     "end_time": "2025-02-26T16:44:17.716457",
     "exception": false,
     "start_time": "2025-02-26T16:44:17.702620",
     "status": "completed"
    },
    "tags": []
   },
   "outputs": [
    {
     "name": "stdout",
     "output_type": "stream",
     "text": [
      "Number of rows are:  20640\n",
      "Number of columns are:  9\n"
     ]
    }
   ],
   "source": [
    "print(\"Number of rows are: \",house_price_dataframe.shape[0])\n",
    "print(\"Number of columns are: \",house_price_dataframe.shape[1])"
   ]
  },
  {
   "cell_type": "code",
   "execution_count": null,
   "id": "391ccf68",
   "metadata": {
    "execution": {
     "iopub.execute_input": "2025-02-26T16:44:17.728643Z",
     "iopub.status.busy": "2025-02-26T16:44:17.728333Z",
     "iopub.status.idle": "2025-02-26T16:44:17.753392Z",
     "shell.execute_reply": "2025-02-26T16:44:17.752206Z"
    },
    "papermill": {
     "duration": 0.033036,
     "end_time": "2025-02-26T16:44:17.755134",
     "exception": false,
     "start_time": "2025-02-26T16:44:17.722098",
     "status": "completed"
    },
    "tags": []
   },
   "outputs": [
    {
     "name": "stdout",
     "output_type": "stream",
     "text": [
      "<class 'pandas.core.frame.DataFrame'>\n",
      "RangeIndex: 20640 entries, 0 to 20639\n",
      "Data columns (total 9 columns):\n",
      " #   Column      Non-Null Count  Dtype  \n",
      "---  ------      --------------  -----  \n",
      " 0   MedInc      20640 non-null  float64\n",
      " 1   HouseAge    20640 non-null  float64\n",
      " 2   AveRooms    20640 non-null  float64\n",
      " 3   AveBedrms   20640 non-null  float64\n",
      " 4   Population  20640 non-null  float64\n",
      " 5   AveOccup    20640 non-null  float64\n",
      " 6   Latitude    20640 non-null  float64\n",
      " 7   Longitude   20640 non-null  float64\n",
      " 8   price       20640 non-null  float64\n",
      "dtypes: float64(9)\n",
      "memory usage: 1.4 MB\n"
     ]
    }
   ],
   "source": [
    "house_price_dataframe.info()"
   ]
  },
  {
   "cell_type": "code",
   "execution_count": null,
   "id": "2a188240",
   "metadata": {
    "execution": {
     "iopub.execute_input": "2025-02-26T16:44:17.767575Z",
     "iopub.status.busy": "2025-02-26T16:44:17.767248Z",
     "iopub.status.idle": "2025-02-26T16:44:17.778652Z",
     "shell.execute_reply": "2025-02-26T16:44:17.777754Z"
    },
    "papermill": {
     "duration": 0.019466,
     "end_time": "2025-02-26T16:44:17.780327",
     "exception": false,
     "start_time": "2025-02-26T16:44:17.760861",
     "status": "completed"
    },
    "tags": []
   },
   "outputs": [
    {
     "data": {
      "text/plain": [
       "<bound method DataFrame.sum of        MedInc  HouseAge  AveRooms  AveBedrms  Population  AveOccup  Latitude  \\\n",
       "0       False     False     False      False       False     False     False   \n",
       "1       False     False     False      False       False     False     False   \n",
       "2       False     False     False      False       False     False     False   \n",
       "3       False     False     False      False       False     False     False   \n",
       "4       False     False     False      False       False     False     False   \n",
       "...       ...       ...       ...        ...         ...       ...       ...   \n",
       "20635   False     False     False      False       False     False     False   \n",
       "20636   False     False     False      False       False     False     False   \n",
       "20637   False     False     False      False       False     False     False   \n",
       "20638   False     False     False      False       False     False     False   \n",
       "20639   False     False     False      False       False     False     False   \n",
       "\n",
       "       Longitude  price  \n",
       "0          False  False  \n",
       "1          False  False  \n",
       "2          False  False  \n",
       "3          False  False  \n",
       "4          False  False  \n",
       "...          ...    ...  \n",
       "20635      False  False  \n",
       "20636      False  False  \n",
       "20637      False  False  \n",
       "20638      False  False  \n",
       "20639      False  False  \n",
       "\n",
       "[20640 rows x 9 columns]>"
      ]
     },
     "execution_count": 12,
     "metadata": {},
     "output_type": "execute_result"
    }
   ],
   "source": [
    "house_price_dataframe.isnull().sum"
   ]
  },
  {
   "cell_type": "code",
   "execution_count": null,
   "id": "85c3e40b",
   "metadata": {
    "execution": {
     "iopub.execute_input": "2025-02-26T16:44:17.792828Z",
     "iopub.status.busy": "2025-02-26T16:44:17.792447Z",
     "iopub.status.idle": "2025-02-26T16:44:17.798485Z",
     "shell.execute_reply": "2025-02-26T16:44:17.797439Z"
    },
    "papermill": {
     "duration": 0.013928,
     "end_time": "2025-02-26T16:44:17.800066",
     "exception": false,
     "start_time": "2025-02-26T16:44:17.786138",
     "status": "completed"
    },
    "tags": []
   },
   "outputs": [
    {
     "data": {
      "text/plain": [
       "Index(['MedInc', 'HouseAge', 'AveRooms', 'AveBedrms', 'Population', 'AveOccup',\n",
       "       'Latitude', 'Longitude', 'price'],\n",
       "      dtype='object')"
      ]
     },
     "execution_count": 13,
     "metadata": {},
     "output_type": "execute_result"
    }
   ],
   "source": [
    "house_price_dataframe.columns"
   ]
  },
  {
   "cell_type": "code",
   "execution_count": null,
   "id": "e2c60595",
   "metadata": {
    "execution": {
     "iopub.execute_input": "2025-02-26T16:44:17.812590Z",
     "iopub.status.busy": "2025-02-26T16:44:17.812260Z",
     "iopub.status.idle": "2025-02-26T16:44:17.850625Z",
     "shell.execute_reply": "2025-02-26T16:44:17.849584Z"
    },
    "papermill": {
     "duration": 0.046327,
     "end_time": "2025-02-26T16:44:17.852249",
     "exception": false,
     "start_time": "2025-02-26T16:44:17.805922",
     "status": "completed"
    },
    "tags": []
   },
   "outputs": [
    {
     "data": {
      "text/html": [
       "<div>\n",
       "<style scoped>\n",
       "    .dataframe tbody tr th:only-of-type {\n",
       "        vertical-align: middle;\n",
       "    }\n",
       "\n",
       "    .dataframe tbody tr th {\n",
       "        vertical-align: top;\n",
       "    }\n",
       "\n",
       "    .dataframe thead th {\n",
       "        text-align: right;\n",
       "    }\n",
       "</style>\n",
       "<table border=\"1\" class=\"dataframe\">\n",
       "  <thead>\n",
       "    <tr style=\"text-align: right;\">\n",
       "      <th></th>\n",
       "      <th>MedInc</th>\n",
       "      <th>HouseAge</th>\n",
       "      <th>AveRooms</th>\n",
       "      <th>AveBedrms</th>\n",
       "      <th>Population</th>\n",
       "      <th>AveOccup</th>\n",
       "      <th>Latitude</th>\n",
       "      <th>Longitude</th>\n",
       "      <th>price</th>\n",
       "    </tr>\n",
       "  </thead>\n",
       "  <tbody>\n",
       "    <tr>\n",
       "      <th>count</th>\n",
       "      <td>20640.00</td>\n",
       "      <td>20640.00</td>\n",
       "      <td>20640.00</td>\n",
       "      <td>20640.00</td>\n",
       "      <td>20640.00</td>\n",
       "      <td>20640.00</td>\n",
       "      <td>20640.00</td>\n",
       "      <td>20640.00</td>\n",
       "      <td>20640.00</td>\n",
       "    </tr>\n",
       "    <tr>\n",
       "      <th>mean</th>\n",
       "      <td>3.87</td>\n",
       "      <td>28.64</td>\n",
       "      <td>5.43</td>\n",
       "      <td>1.10</td>\n",
       "      <td>1425.48</td>\n",
       "      <td>3.07</td>\n",
       "      <td>35.63</td>\n",
       "      <td>-119.57</td>\n",
       "      <td>2.07</td>\n",
       "    </tr>\n",
       "    <tr>\n",
       "      <th>std</th>\n",
       "      <td>1.90</td>\n",
       "      <td>12.59</td>\n",
       "      <td>2.47</td>\n",
       "      <td>0.47</td>\n",
       "      <td>1132.46</td>\n",
       "      <td>10.39</td>\n",
       "      <td>2.14</td>\n",
       "      <td>2.00</td>\n",
       "      <td>1.15</td>\n",
       "    </tr>\n",
       "    <tr>\n",
       "      <th>min</th>\n",
       "      <td>0.50</td>\n",
       "      <td>1.00</td>\n",
       "      <td>0.85</td>\n",
       "      <td>0.33</td>\n",
       "      <td>3.00</td>\n",
       "      <td>0.69</td>\n",
       "      <td>32.54</td>\n",
       "      <td>-124.35</td>\n",
       "      <td>0.15</td>\n",
       "    </tr>\n",
       "    <tr>\n",
       "      <th>25%</th>\n",
       "      <td>2.56</td>\n",
       "      <td>18.00</td>\n",
       "      <td>4.44</td>\n",
       "      <td>1.01</td>\n",
       "      <td>787.00</td>\n",
       "      <td>2.43</td>\n",
       "      <td>33.93</td>\n",
       "      <td>-121.80</td>\n",
       "      <td>1.20</td>\n",
       "    </tr>\n",
       "    <tr>\n",
       "      <th>50%</th>\n",
       "      <td>3.53</td>\n",
       "      <td>29.00</td>\n",
       "      <td>5.23</td>\n",
       "      <td>1.05</td>\n",
       "      <td>1166.00</td>\n",
       "      <td>2.82</td>\n",
       "      <td>34.26</td>\n",
       "      <td>-118.49</td>\n",
       "      <td>1.80</td>\n",
       "    </tr>\n",
       "    <tr>\n",
       "      <th>75%</th>\n",
       "      <td>4.74</td>\n",
       "      <td>37.00</td>\n",
       "      <td>6.05</td>\n",
       "      <td>1.10</td>\n",
       "      <td>1725.00</td>\n",
       "      <td>3.28</td>\n",
       "      <td>37.71</td>\n",
       "      <td>-118.01</td>\n",
       "      <td>2.65</td>\n",
       "    </tr>\n",
       "    <tr>\n",
       "      <th>max</th>\n",
       "      <td>15.00</td>\n",
       "      <td>52.00</td>\n",
       "      <td>141.91</td>\n",
       "      <td>34.07</td>\n",
       "      <td>35682.00</td>\n",
       "      <td>1243.33</td>\n",
       "      <td>41.95</td>\n",
       "      <td>-114.31</td>\n",
       "      <td>5.00</td>\n",
       "    </tr>\n",
       "  </tbody>\n",
       "</table>\n",
       "</div>"
      ],
      "text/plain": [
       "         MedInc  HouseAge  AveRooms  AveBedrms  Population  AveOccup  \\\n",
       "count  20640.00  20640.00  20640.00   20640.00    20640.00  20640.00   \n",
       "mean       3.87     28.64      5.43       1.10     1425.48      3.07   \n",
       "std        1.90     12.59      2.47       0.47     1132.46     10.39   \n",
       "min        0.50      1.00      0.85       0.33        3.00      0.69   \n",
       "25%        2.56     18.00      4.44       1.01      787.00      2.43   \n",
       "50%        3.53     29.00      5.23       1.05     1166.00      2.82   \n",
       "75%        4.74     37.00      6.05       1.10     1725.00      3.28   \n",
       "max       15.00     52.00    141.91      34.07    35682.00   1243.33   \n",
       "\n",
       "       Latitude  Longitude     price  \n",
       "count  20640.00   20640.00  20640.00  \n",
       "mean      35.63    -119.57      2.07  \n",
       "std        2.14       2.00      1.15  \n",
       "min       32.54    -124.35      0.15  \n",
       "25%       33.93    -121.80      1.20  \n",
       "50%       34.26    -118.49      1.80  \n",
       "75%       37.71    -118.01      2.65  \n",
       "max       41.95    -114.31      5.00  "
      ]
     },
     "execution_count": 14,
     "metadata": {},
     "output_type": "execute_result"
    }
   ],
   "source": [
    "house_price_dataframe.describe(include='all').round(2)"
   ]
  },
  {
   "cell_type": "code",
   "execution_count": null,
   "id": "3a162d02",
   "metadata": {
    "execution": {
     "iopub.execute_input": "2025-02-26T16:44:17.865678Z",
     "iopub.status.busy": "2025-02-26T16:44:17.865296Z",
     "iopub.status.idle": "2025-02-26T16:44:17.886423Z",
     "shell.execute_reply": "2025-02-26T16:44:17.885316Z"
    },
    "papermill": {
     "duration": 0.029832,
     "end_time": "2025-02-26T16:44:17.888247",
     "exception": false,
     "start_time": "2025-02-26T16:44:17.858415",
     "status": "completed"
    },
    "tags": []
   },
   "outputs": [
    {
     "name": "stdout",
     "output_type": "stream",
     "text": [
      "No of unique Values in MedInc is 12928\n",
      "No of unique Values in HouseAge is 52\n",
      "No of unique Values in AveRooms is 19392\n",
      "No of unique Values in AveBedrms is 14233\n",
      "No of unique Values in Population is 3888\n",
      "No of unique Values in AveOccup is 18841\n",
      "No of unique Values in Latitude is 862\n",
      "No of unique Values in Longitude is 844\n",
      "No of unique Values in price is 3842\n"
     ]
    }
   ],
   "source": [
    "for i in house_price_dataframe.columns.tolist():\n",
    "    print(\"No of unique Values in\", i ,\"is\", house_price_dataframe[i].nunique())"
   ]
  },
  {
   "cell_type": "code",
   "execution_count": null,
   "id": "ec180c53",
   "metadata": {
    "execution": {
     "iopub.execute_input": "2025-02-26T16:44:17.901895Z",
     "iopub.status.busy": "2025-02-26T16:44:17.901503Z",
     "iopub.status.idle": "2025-02-26T16:44:17.908332Z",
     "shell.execute_reply": "2025-02-26T16:44:17.907263Z"
    },
    "papermill": {
     "duration": 0.015487,
     "end_time": "2025-02-26T16:44:17.910002",
     "exception": false,
     "start_time": "2025-02-26T16:44:17.894515",
     "status": "completed"
    },
    "tags": []
   },
   "outputs": [],
   "source": [
    "X = house_price_dataframe.drop(['price'], axis = 1)\n",
    "Y = house_price_dataframe['price']"
   ]
  },
  {
   "cell_type": "code",
   "execution_count": 17,
   "id": "b8192c27",
   "metadata": {
    "execution": {
     "iopub.execute_input": "2025-02-26T16:44:17.923449Z",
     "iopub.status.busy": "2025-02-26T16:44:17.923084Z",
     "iopub.status.idle": "2025-02-26T16:44:17.934909Z",
     "shell.execute_reply": "2025-02-26T16:44:17.933857Z"
    },
    "papermill": {
     "duration": 0.020352,
     "end_time": "2025-02-26T16:44:17.936475",
     "exception": false,
     "start_time": "2025-02-26T16:44:17.916123",
     "status": "completed"
    },
    "tags": []
   },
   "outputs": [
    {
     "name": "stdout",
     "output_type": "stream",
     "text": [
      "       MedInc  HouseAge  AveRooms  AveBedrms  Population  AveOccup  Latitude  \\\n",
      "0      8.3252      41.0  6.984127   1.023810       322.0  2.555556     37.88   \n",
      "1      8.3014      21.0  6.238137   0.971880      2401.0  2.109842     37.86   \n",
      "2      7.2574      52.0  8.288136   1.073446       496.0  2.802260     37.85   \n",
      "3      5.6431      52.0  5.817352   1.073059       558.0  2.547945     37.85   \n",
      "4      3.8462      52.0  6.281853   1.081081       565.0  2.181467     37.85   \n",
      "...       ...       ...       ...        ...         ...       ...       ...   \n",
      "20635  1.5603      25.0  5.045455   1.133333       845.0  2.560606     39.48   \n",
      "20636  2.5568      18.0  6.114035   1.315789       356.0  3.122807     39.49   \n",
      "20637  1.7000      17.0  5.205543   1.120092      1007.0  2.325635     39.43   \n",
      "20638  1.8672      18.0  5.329513   1.171920       741.0  2.123209     39.43   \n",
      "20639  2.3886      16.0  5.254717   1.162264      1387.0  2.616981     39.37   \n",
      "\n",
      "       Longitude  \n",
      "0        -122.23  \n",
      "1        -122.22  \n",
      "2        -122.24  \n",
      "3        -122.25  \n",
      "4        -122.25  \n",
      "...          ...  \n",
      "20635    -121.09  \n",
      "20636    -121.21  \n",
      "20637    -121.22  \n",
      "20638    -121.32  \n",
      "20639    -121.24  \n",
      "\n",
      "[20640 rows x 8 columns] 0        4.526\n",
      "1        3.585\n",
      "2        3.521\n",
      "3        3.413\n",
      "4        3.422\n",
      "         ...  \n",
      "20635    0.781\n",
      "20636    0.771\n",
      "20637    0.923\n",
      "20638    0.847\n",
      "20639    0.894\n",
      "Name: price, Length: 20640, dtype: float64\n"
     ]
    }
   ],
   "source": [
    "print(X,Y)"
   ]
  },
  {
   "cell_type": "code",
   "execution_count": null,
   "id": "64cc57d2",
   "metadata": {
    "execution": {
     "iopub.execute_input": "2025-02-26T16:44:17.950068Z",
     "iopub.status.busy": "2025-02-26T16:44:17.949708Z",
     "iopub.status.idle": "2025-02-26T16:44:17.958518Z",
     "shell.execute_reply": "2025-02-26T16:44:17.957760Z"
    },
    "papermill": {
     "duration": 0.017267,
     "end_time": "2025-02-26T16:44:17.960132",
     "exception": false,
     "start_time": "2025-02-26T16:44:17.942865",
     "status": "completed"
    },
    "tags": []
   },
   "outputs": [],
   "source": [
    "X_train, X_test, Y_train, Y_test = train_test_split(X,Y, test_size=0.25, random_state=2)"
   ]
  },
  {
   "cell_type": "code",
   "execution_count": 19,
   "id": "a58ba6d3",
   "metadata": {
    "execution": {
     "iopub.execute_input": "2025-02-26T16:44:17.974033Z",
     "iopub.status.busy": "2025-02-26T16:44:17.973636Z",
     "iopub.status.idle": "2025-02-26T16:44:17.977770Z",
     "shell.execute_reply": "2025-02-26T16:44:17.977016Z"
    },
    "papermill": {
     "duration": 0.012748,
     "end_time": "2025-02-26T16:44:17.979177",
     "exception": false,
     "start_time": "2025-02-26T16:44:17.966429",
     "status": "completed"
    },
    "tags": []
   },
   "outputs": [
    {
     "name": "stdout",
     "output_type": "stream",
     "text": [
      "(20640, 8) (15480, 8) (5160, 8)\n"
     ]
    }
   ],
   "source": [
    "print(X.shape, X_train.shape, X_test.shape)"
   ]
  },
  {
   "cell_type": "code",
   "execution_count": null,
   "id": "bc866936",
   "metadata": {
    "execution": {
     "iopub.execute_input": "2025-02-26T16:44:17.992573Z",
     "iopub.status.busy": "2025-02-26T16:44:17.992219Z",
     "iopub.status.idle": "2025-02-26T16:44:17.996000Z",
     "shell.execute_reply": "2025-02-26T16:44:17.995176Z"
    },
    "papermill": {
     "duration": 0.012189,
     "end_time": "2025-02-26T16:44:17.997538",
     "exception": false,
     "start_time": "2025-02-26T16:44:17.985349",
     "status": "completed"
    },
    "tags": []
   },
   "outputs": [],
   "source": [
    "model = XGBRegressor()"
   ]
  },
  {
   "cell_type": "code",
   "execution_count": null,
   "id": "acbdeeec",
   "metadata": {
    "execution": {
     "iopub.execute_input": "2025-02-26T16:44:18.011583Z",
     "iopub.status.busy": "2025-02-26T16:44:18.011148Z",
     "iopub.status.idle": "2025-02-26T16:44:18.295261Z",
     "shell.execute_reply": "2025-02-26T16:44:18.294394Z"
    },
    "papermill": {
     "duration": 0.292947,
     "end_time": "2025-02-26T16:44:18.297150",
     "exception": false,
     "start_time": "2025-02-26T16:44:18.004203",
     "status": "completed"
    },
    "tags": []
   },
   "outputs": [
    {
     "data": {
      "text/html": [
       "<style>#sk-container-id-1 {color: black;background-color: white;}#sk-container-id-1 pre{padding: 0;}#sk-container-id-1 div.sk-toggleable {background-color: white;}#sk-container-id-1 label.sk-toggleable__label {cursor: pointer;display: block;width: 100%;margin-bottom: 0;padding: 0.3em;box-sizing: border-box;text-align: center;}#sk-container-id-1 label.sk-toggleable__label-arrow:before {content: \"▸\";float: left;margin-right: 0.25em;color: #696969;}#sk-container-id-1 label.sk-toggleable__label-arrow:hover:before {color: black;}#sk-container-id-1 div.sk-estimator:hover label.sk-toggleable__label-arrow:before {color: black;}#sk-container-id-1 div.sk-toggleable__content {max-height: 0;max-width: 0;overflow: hidden;text-align: left;background-color: #f0f8ff;}#sk-container-id-1 div.sk-toggleable__content pre {margin: 0.2em;color: black;border-radius: 0.25em;background-color: #f0f8ff;}#sk-container-id-1 input.sk-toggleable__control:checked~div.sk-toggleable__content {max-height: 200px;max-width: 100%;overflow: auto;}#sk-container-id-1 input.sk-toggleable__control:checked~label.sk-toggleable__label-arrow:before {content: \"▾\";}#sk-container-id-1 div.sk-estimator input.sk-toggleable__control:checked~label.sk-toggleable__label {background-color: #d4ebff;}#sk-container-id-1 div.sk-label input.sk-toggleable__control:checked~label.sk-toggleable__label {background-color: #d4ebff;}#sk-container-id-1 input.sk-hidden--visually {border: 0;clip: rect(1px 1px 1px 1px);clip: rect(1px, 1px, 1px, 1px);height: 1px;margin: -1px;overflow: hidden;padding: 0;position: absolute;width: 1px;}#sk-container-id-1 div.sk-estimator {font-family: monospace;background-color: #f0f8ff;border: 1px dotted black;border-radius: 0.25em;box-sizing: border-box;margin-bottom: 0.5em;}#sk-container-id-1 div.sk-estimator:hover {background-color: #d4ebff;}#sk-container-id-1 div.sk-parallel-item::after {content: \"\";width: 100%;border-bottom: 1px solid gray;flex-grow: 1;}#sk-container-id-1 div.sk-label:hover label.sk-toggleable__label {background-color: #d4ebff;}#sk-container-id-1 div.sk-serial::before {content: \"\";position: absolute;border-left: 1px solid gray;box-sizing: border-box;top: 0;bottom: 0;left: 50%;z-index: 0;}#sk-container-id-1 div.sk-serial {display: flex;flex-direction: column;align-items: center;background-color: white;padding-right: 0.2em;padding-left: 0.2em;position: relative;}#sk-container-id-1 div.sk-item {position: relative;z-index: 1;}#sk-container-id-1 div.sk-parallel {display: flex;align-items: stretch;justify-content: center;background-color: white;position: relative;}#sk-container-id-1 div.sk-item::before, #sk-container-id-1 div.sk-parallel-item::before {content: \"\";position: absolute;border-left: 1px solid gray;box-sizing: border-box;top: 0;bottom: 0;left: 50%;z-index: -1;}#sk-container-id-1 div.sk-parallel-item {display: flex;flex-direction: column;z-index: 1;position: relative;background-color: white;}#sk-container-id-1 div.sk-parallel-item:first-child::after {align-self: flex-end;width: 50%;}#sk-container-id-1 div.sk-parallel-item:last-child::after {align-self: flex-start;width: 50%;}#sk-container-id-1 div.sk-parallel-item:only-child::after {width: 0;}#sk-container-id-1 div.sk-dashed-wrapped {border: 1px dashed gray;margin: 0 0.4em 0.5em 0.4em;box-sizing: border-box;padding-bottom: 0.4em;background-color: white;}#sk-container-id-1 div.sk-label label {font-family: monospace;font-weight: bold;display: inline-block;line-height: 1.2em;}#sk-container-id-1 div.sk-label-container {text-align: center;}#sk-container-id-1 div.sk-container {/* jupyter's `normalize.less` sets `[hidden] { display: none; }` but bootstrap.min.css set `[hidden] { display: none !important; }` so we also need the `!important` here to be able to override the default hidden behavior on the sphinx rendered scikit-learn.org. See: https://github.com/scikit-learn/scikit-learn/issues/21755 */display: inline-block !important;position: relative;}#sk-container-id-1 div.sk-text-repr-fallback {display: none;}</style><div id=\"sk-container-id-1\" class=\"sk-top-container\"><div class=\"sk-text-repr-fallback\"><pre>XGBRegressor(base_score=None, booster=None, callbacks=None,\n",
       "             colsample_bylevel=None, colsample_bynode=None,\n",
       "             colsample_bytree=None, device=None, early_stopping_rounds=None,\n",
       "             enable_categorical=False, eval_metric=None, feature_types=None,\n",
       "             gamma=None, grow_policy=None, importance_type=None,\n",
       "             interaction_constraints=None, learning_rate=None, max_bin=None,\n",
       "             max_cat_threshold=None, max_cat_to_onehot=None,\n",
       "             max_delta_step=None, max_depth=None, max_leaves=None,\n",
       "             min_child_weight=None, missing=nan, monotone_constraints=None,\n",
       "             multi_strategy=None, n_estimators=None, n_jobs=None,\n",
       "             num_parallel_tree=None, random_state=None, ...)</pre><b>In a Jupyter environment, please rerun this cell to show the HTML representation or trust the notebook. <br />On GitHub, the HTML representation is unable to render, please try loading this page with nbviewer.org.</b></div><div class=\"sk-container\" hidden><div class=\"sk-item\"><div class=\"sk-estimator sk-toggleable\"><input class=\"sk-toggleable__control sk-hidden--visually\" id=\"sk-estimator-id-1\" type=\"checkbox\" checked><label for=\"sk-estimator-id-1\" class=\"sk-toggleable__label sk-toggleable__label-arrow\">XGBRegressor</label><div class=\"sk-toggleable__content\"><pre>XGBRegressor(base_score=None, booster=None, callbacks=None,\n",
       "             colsample_bylevel=None, colsample_bynode=None,\n",
       "             colsample_bytree=None, device=None, early_stopping_rounds=None,\n",
       "             enable_categorical=False, eval_metric=None, feature_types=None,\n",
       "             gamma=None, grow_policy=None, importance_type=None,\n",
       "             interaction_constraints=None, learning_rate=None, max_bin=None,\n",
       "             max_cat_threshold=None, max_cat_to_onehot=None,\n",
       "             max_delta_step=None, max_depth=None, max_leaves=None,\n",
       "             min_child_weight=None, missing=nan, monotone_constraints=None,\n",
       "             multi_strategy=None, n_estimators=None, n_jobs=None,\n",
       "             num_parallel_tree=None, random_state=None, ...)</pre></div></div></div></div></div>"
      ],
      "text/plain": [
       "XGBRegressor(base_score=None, booster=None, callbacks=None,\n",
       "             colsample_bylevel=None, colsample_bynode=None,\n",
       "             colsample_bytree=None, device=None, early_stopping_rounds=None,\n",
       "             enable_categorical=False, eval_metric=None, feature_types=None,\n",
       "             gamma=None, grow_policy=None, importance_type=None,\n",
       "             interaction_constraints=None, learning_rate=None, max_bin=None,\n",
       "             max_cat_threshold=None, max_cat_to_onehot=None,\n",
       "             max_delta_step=None, max_depth=None, max_leaves=None,\n",
       "             min_child_weight=None, missing=nan, monotone_constraints=None,\n",
       "             multi_strategy=None, n_estimators=None, n_jobs=None,\n",
       "             num_parallel_tree=None, random_state=None, ...)"
      ]
     },
     "execution_count": 21,
     "metadata": {},
     "output_type": "execute_result"
    }
   ],
   "source": [
    "model.fit(X_train, Y_train)"
   ]
  },
  {
   "cell_type": "code",
   "execution_count": null,
   "id": "43903c0a",
   "metadata": {
    "execution": {
     "iopub.execute_input": "2025-02-26T16:44:18.311936Z",
     "iopub.status.busy": "2025-02-26T16:44:18.311535Z",
     "iopub.status.idle": "2025-02-26T16:44:18.334225Z",
     "shell.execute_reply": "2025-02-26T16:44:18.333424Z"
    },
    "papermill": {
     "duration": 0.032319,
     "end_time": "2025-02-26T16:44:18.336298",
     "exception": false,
     "start_time": "2025-02-26T16:44:18.303979",
     "status": "completed"
    },
    "tags": []
   },
   "outputs": [],
   "source": [
    "training_data_prediction = model.predict(X_train)"
   ]
  },
  {
   "cell_type": "code",
   "execution_count": 23,
   "id": "1813cfee",
   "metadata": {
    "execution": {
     "iopub.execute_input": "2025-02-26T16:44:18.354355Z",
     "iopub.status.busy": "2025-02-26T16:44:18.353992Z",
     "iopub.status.idle": "2025-02-26T16:44:18.359200Z",
     "shell.execute_reply": "2025-02-26T16:44:18.358262Z"
    },
    "papermill": {
     "duration": 0.015744,
     "end_time": "2025-02-26T16:44:18.360683",
     "exception": false,
     "start_time": "2025-02-26T16:44:18.344939",
     "status": "completed"
    },
    "tags": []
   },
   "outputs": [
    {
     "name": "stdout",
     "output_type": "stream",
     "text": [
      "[2.527071  0.6174013 1.1158092 ... 1.8347801 1.7563723 0.7643776]\n"
     ]
    }
   ],
   "source": [
    "print(training_data_prediction)"
   ]
  },
  {
   "cell_type": "code",
   "execution_count": null,
   "id": "87e2f0d0",
   "metadata": {
    "execution": {
     "iopub.execute_input": "2025-02-26T16:44:18.375618Z",
     "iopub.status.busy": "2025-02-26T16:44:18.375218Z",
     "iopub.status.idle": "2025-02-26T16:44:18.390721Z",
     "shell.execute_reply": "2025-02-26T16:44:18.389308Z"
    },
    "papermill": {
     "duration": 0.024768,
     "end_time": "2025-02-26T16:44:18.392407",
     "exception": false,
     "start_time": "2025-02-26T16:44:18.367639",
     "status": "completed"
    },
    "tags": []
   },
   "outputs": [
    {
     "name": "stdout",
     "output_type": "stream",
     "text": [
      "R Squared Error:  0.9492539821379308\n",
      "Mean Absolute Error:  0.18398371071249137\n"
     ]
    }
   ],
   "source": [
    "score_1 = metrics.r2_score(Y_train, training_data_prediction)\n",
    "score_2 = metrics.mean_absolute_error(Y_train, training_data_prediction)\n",
    "print(\"R Squared Error: \", score_1)\n",
    "print(\"Mean Absolute Error: \", score_2)"
   ]
  },
  {
   "cell_type": "code",
   "execution_count": 25,
   "id": "388e0982",
   "metadata": {
    "execution": {
     "iopub.execute_input": "2025-02-26T16:44:18.407178Z",
     "iopub.status.busy": "2025-02-26T16:44:18.406843Z",
     "iopub.status.idle": "2025-02-26T16:44:18.712704Z",
     "shell.execute_reply": "2025-02-26T16:44:18.711312Z"
    },
    "papermill": {
     "duration": 0.315292,
     "end_time": "2025-02-26T16:44:18.714451",
     "exception": false,
     "start_time": "2025-02-26T16:44:18.399159",
     "status": "completed"
    },
    "tags": []
   },
   "outputs": [
    {
     "data": {
      "image/png": "[encoded data removed]",
      "text/plain": [
       "<Figure size 640x480 with 1 Axes>"
      ]
     },
     "metadata": {},
     "output_type": "display_data"
    }
   ],
   "source": [
    "plt.scatter(Y_train, training_data_prediction)\n",
    "plt.xlabel(\"Actaul Price\")\n",
    "plt.ylabel(\"Predicted Price\")\n",
    "plt.title(\"Actual Price vs Predicted Price\")\n",
    "plt.show()"
   ]
  }
 ],
 "metadata": {
  "kaggle": {
   "accelerator": "none",
   "dataSources": [
    {
     "databundleVersionId": 111096,
     "sourceId": 10211,
     "sourceType": "competition"
    }
   ],
   "dockerImageVersionId": 30918,
   "isGpuEnabled": false,
   "isInternetEnabled": true,
   "language": "python",
   "sourceType": "notebook"
  },
  "kernelspec": {
   "display_name": "Python 3",
   "language": "python",
   "name": "python3"
  },
  "language_info": {
   "codemirror_mode": {
    "name": "ipython",
    "version": 3
   },
   "file_extension": ".py",
   "mimetype": "text/x-python",
   "name": "python",
   "nbconvert_exporter": "python",
   "pygments_lexer": "ipython3",
   "version": "3.10.12"
  },
  "papermill": {
   "default_parameters": {},
   "duration": 9.525621,
   "end_time": "2025-02-26T16:44:19.442910",
   "environment_variables": {},
   "exception": null,
   "input_path": "__notebook__.ipynb",
   "output_path": "__notebook__.ipynb",
   "parameters": {},
   "start_time": "2025-02-26T16:44:09.917289",
   "version": "2.6.0"
  }
 },
 "nbformat": 4,
 "nbformat_minor": 5
}
